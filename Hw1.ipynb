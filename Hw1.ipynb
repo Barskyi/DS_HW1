{
 "cells": [
  {
   "cell_type": "code",
   "execution_count": 1,
   "id": "d11db26b-6b9e-4c3f-9acc-4590fa11cfc1",
   "metadata": {},
   "outputs": [],
   "source": [
    "import numpy as np"
   ]
  },
  {
   "cell_type": "code",
   "execution_count": 2,
   "id": "39a99471-2d47-4250-8ecb-153735a28c3a",
   "metadata": {},
   "outputs": [
    {
     "name": "stdout",
     "output_type": "stream",
     "text": [
      "[ 1  2  3  4  5  6  7  8  9 10]\n"
     ]
    }
   ],
   "source": [
    "vector = np.arange(1, 11)\n",
    "print(vector)"
   ]
  },
  {
   "cell_type": "code",
   "execution_count": 3,
   "id": "a001d3d3-8f56-40bb-9ae7-626eadb930b9",
   "metadata": {},
   "outputs": [
    {
     "name": "stdout",
     "output_type": "stream",
     "text": [
      "[[0. 0. 0.]\n",
      " [0. 0. 0.]\n",
      " [0. 0. 0.]]\n"
     ]
    }
   ],
   "source": [
    "matrix = np.zeros((3, 3))\n",
    "print(matrix)\n"
   ]
  },
  {
   "cell_type": "code",
   "execution_count": 4,
   "id": "cf0b4864-6ae1-4b1f-ad58-545179791819",
   "metadata": {},
   "outputs": [
    {
     "name": "stdout",
     "output_type": "stream",
     "text": [
      "[[7 8 2 7 5]\n",
      " [5 3 2 7 2]\n",
      " [5 8 7 7 5]\n",
      " [5 4 7 4 5]\n",
      " [9 7 4 1 5]]\n"
     ]
    }
   ],
   "source": [
    "random_matrix = np.random.randint(1, 11, size=(5, 5))\n",
    "print(random_matrix)\n"
   ]
  },
  {
   "cell_type": "code",
   "execution_count": 7,
   "id": "e2901b53-6496-4597-ae2b-40fc5a1b4762",
   "metadata": {},
   "outputs": [
    {
     "name": "stdout",
     "output_type": "stream",
     "text": [
      "[[0.78 0.39 0.07 0.64]\n",
      " [0.54 0.72 0.76 0.64]\n",
      " [0.31 0.98 0.03 0.2 ]\n",
      " [0.05 0.69 0.52 0.03]]\n"
     ]
    }
   ],
   "source": [
    "random_matrix = np.random.rand(4, 4).round(2)\n",
    "print(random_matrix)\n"
   ]
  },
  {
   "cell_type": "code",
   "execution_count": 10,
   "id": "8c35ffef-52ff-4d83-aa92-239cbd26cbe2",
   "metadata": {},
   "outputs": [
    {
     "name": "stdout",
     "output_type": "stream",
     "text": [
      "[12  6  8 16 10]\n",
      "[ 4 -2  0 -4  2]\n",
      "[32  8 16 60 24]\n"
     ]
    }
   ],
   "source": [
    "array1 = np.random.randint(1, 11, size=5)\n",
    "array2 = np.random.randint(1, 11, size=5)\n",
    "\n",
    "add = array1 + array2\n",
    "print(add)\n",
    "\n",
    "sub = array1 - array2\n",
    "print(sub)\n",
    "\n",
    "mult = array1 * array2\n",
    "print(mult)"
   ]
  },
  {
   "cell_type": "code",
   "execution_count": 12,
   "id": "0a125105-e453-4bee-a510-011b19da0016",
   "metadata": {},
   "outputs": [
    {
     "name": "stdout",
     "output_type": "stream",
     "text": [
      "1.57\n"
     ]
    }
   ],
   "source": [
    "vect_first = np.random.random(7)\n",
    "vect_sec = np.random.random(7)\n",
    "scalar = np.dot(vect_first, vect_sec).round(2)\n",
    "print(scalar)"
   ]
  },
  {
   "cell_type": "code",
   "execution_count": 14,
   "id": "4c828263-9ed7-463e-8d2a-0da34667d37a",
   "metadata": {},
   "outputs": [
    {
     "name": "stdout",
     "output_type": "stream",
     "text": [
      "[[20 70 82]\n",
      " [43 56 44]]\n"
     ]
    }
   ],
   "source": [
    "matrix_first = np.random.randint(1, 11, size=(2, 2))\n",
    "matrix_sec = np.random.randint(1, 11, size=(2, 3))\n",
    "result = np.dot(matrix_first, matrix_sec)\n",
    "print(result)\n"
   ]
  },
  {
   "cell_type": "code",
   "execution_count": 19,
   "id": "72b95022-3e93-49ea-ba50-b53a2b3715c5",
   "metadata": {},
   "outputs": [
    {
     "name": "stdout",
     "output_type": "stream",
     "text": [
      "[[ 0.208 -0.583  0.083]\n",
      " [-0.007  0.319 -0.069]\n",
      " [-0.09   0.153  0.097]]\n"
     ]
    }
   ],
   "source": [
    "matrix = np.random.randint(1, 11, size=(3, 3))\n",
    "result = np.linalg.inv(matrix).round(3)\n",
    "print(result)"
   ]
  },
  {
   "cell_type": "code",
   "execution_count": 23,
   "id": "c1a164ef-0506-404f-83ec-1f9171556b46",
   "metadata": {},
   "outputs": [
    {
     "name": "stdout",
     "output_type": "stream",
     "text": [
      "[[0.619 0.352 0.399 0.661]\n",
      " [0.056 0.66  0.031 0.867]\n",
      " [0.231 0.841 0.688 0.387]\n",
      " [0.443 0.404 0.816 0.568]]\n"
     ]
    }
   ],
   "source": [
    "matrix = np.random.rand(4, 4)\n",
    "result = np.transpose(matrix).round(3)\n",
    "print(result)"
   ]
  },
  {
   "cell_type": "code",
   "execution_count": 24,
   "id": "706292d9-4361-4926-9c6d-ce5db77c09bf",
   "metadata": {},
   "outputs": [
    {
     "name": "stdout",
     "output_type": "stream",
     "text": [
      "[ 75 184 171]\n"
     ]
    }
   ],
   "source": [
    "matrix = np.random.randint(1, 11, size=(3, 4))\n",
    "vector = np.random.randint(1, 11, size=4)\n",
    "result = np.dot(matrix, vector)\n",
    "print(result)"
   ]
  },
  {
   "cell_type": "code",
   "execution_count": 26,
   "id": "2fb82881-8a78-44f8-9016-df41af22f966",
   "metadata": {},
   "outputs": [
    {
     "name": "stdout",
     "output_type": "stream",
     "text": [
      "[0.487 0.984]\n"
     ]
    }
   ],
   "source": [
    "matrix = np.random.rand(2, 3)\n",
    "vector = np.random.rand(3)\n",
    "result = np.dot(matrix, vector).round(3)\n",
    "print(result)"
   ]
  },
  {
   "cell_type": "code",
   "execution_count": 28,
   "id": "eba415c2-b735-447d-bf79-440278b192a4",
   "metadata": {},
   "outputs": [
    {
     "name": "stdout",
     "output_type": "stream",
     "text": [
      "[[12 27]\n",
      " [60 12]]\n",
      "[[66 42]\n",
      " [78 42]]\n"
     ]
    }
   ],
   "source": [
    "matrix_first = np.random.randint(1, 11, size=(2, 2))\n",
    "matrix_sec = np.random.randint(1, 11, size=(2, 2))\n",
    "result = np.multiply(matrix_first, matrix_sec)\n",
    "dot_result = np.dot(matrix_first, matrix_sec)\n",
    "print(result)\n",
    "print(dot_result)"
   ]
  },
  {
   "cell_type": "code",
   "execution_count": 29,
   "id": "b5908f1e-ef0d-42ab-9497-fe3abf9b3b04",
   "metadata": {},
   "outputs": [
    {
     "name": "stdout",
     "output_type": "stream",
     "text": [
      "1524\n"
     ]
    }
   ],
   "source": [
    "matrix = np.random.randint(1, 101, size=(5, 5))\n",
    "result = np.sum(matrix)\n",
    "print(result)"
   ]
  },
  {
   "cell_type": "code",
   "execution_count": 30,
   "id": "b485d40a-cb10-4dca-8fc3-1abe471417f8",
   "metadata": {},
   "outputs": [
    {
     "name": "stdout",
     "output_type": "stream",
     "text": [
      "[[-9  6  1  4]\n",
      " [-6 -5 -4 -3]\n",
      " [-4  4  2  9]\n",
      " [ 3  1  1  1]]\n"
     ]
    }
   ],
   "source": [
    "matrix_first = np.random.randint(1, 11, size=(4, 4))\n",
    "matrix_sec = np.random.randint(1, 11, size=(4, 4))\n",
    "result = np.subtract(matrix_first, matrix_sec)\n",
    "print(result)"
   ]
  },
  {
   "cell_type": "code",
   "execution_count": 32,
   "id": "c6df1469-8ce6-4b3a-b9a5-98282fa16db7",
   "metadata": {},
   "outputs": [
    {
     "name": "stdout",
     "output_type": "stream",
     "text": [
      "[[1.924]\n",
      " [2.219]\n",
      " [0.337]]\n"
     ]
    }
   ],
   "source": [
    "matrix = np.random.rand(3, 3)\n",
    "result = np.sum(matrix, axis=1, keepdims=True).round(3)\n",
    "print(result)"
   ]
  },
  {
   "cell_type": "code",
   "execution_count": 35,
   "id": "620ebbad-75dc-4c0b-938c-0b17051a009e",
   "metadata": {},
   "outputs": [
    {
     "name": "stdout",
     "output_type": "stream",
     "text": [
      "[[ 2  5  8  5]\n",
      " [ 1  8  1  8]\n",
      " [10  2  6  9]]\n",
      "[[  4  25  64  25]\n",
      " [  1  64   1  64]\n",
      " [100   4  36  81]]\n"
     ]
    }
   ],
   "source": [
    "matrix = np.random.randint(1, 11, size=(3, 4))\n",
    "print(matrix)\n",
    "result = np.square(matrix)\n",
    "print(result)"
   ]
  },
  {
   "cell_type": "code",
   "execution_count": 38,
   "id": "6a38e763-b427-4ef6-9956-4b113efd86ce",
   "metadata": {},
   "outputs": [
    {
     "name": "stdout",
     "output_type": "stream",
     "text": [
      "[4.24 2.83 4.9  4.8 ]\n"
     ]
    }
   ],
   "source": [
    "vector = np.random.randint(1, 51, size=4)\n",
    "result = np.sqrt(vector).round(2)\n",
    "print(result)"
   ]
  },
  {
   "cell_type": "code",
   "execution_count": null,
   "id": "6904ccdd-d185-4db7-97b7-149279585773",
   "metadata": {},
   "outputs": [],
   "source": []
  }
 ],
 "metadata": {
  "kernelspec": {
   "display_name": "Python 3 (ipykernel)",
   "language": "python",
   "name": "python3"
  },
  "language_info": {
   "codemirror_mode": {
    "name": "ipython",
    "version": 3
   },
   "file_extension": ".py",
   "mimetype": "text/x-python",
   "name": "python",
   "nbconvert_exporter": "python",
   "pygments_lexer": "ipython3",
   "version": "3.11.4"
  }
 },
 "nbformat": 4,
 "nbformat_minor": 5
}
